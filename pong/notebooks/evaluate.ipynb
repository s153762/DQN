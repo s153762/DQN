{
 "cells": [
  {
   "cell_type": "code",
   "execution_count": 16,
   "metadata": {
    "collapsed": true,
    "pycharm": {
     "is_executing": false
    }
   },
   "outputs": [],
   "source": [
    "import gym\n",
    "import torch\n",
    "from pong.script.DQN import DQN # Get Network\n",
    "from itertools import count\n",
    "import numpy as np\n",
    "import torchvision.transforms as T\n",
    "from pong.script.GetScreen import get_screen\n",
    "from PIL import Image"
   ]
  },
  {
   "cell_type": "code",
   "execution_count": 17,
   "outputs": [
    {
     "data": {
      "text/plain": "DQN(\n  (conv1): Conv2d(4, 16, kernel_size=(5, 5), stride=(2, 2))\n  (bn1): BatchNorm2d(16, eps=1e-05, momentum=0.1, affine=True, track_running_stats=True)\n  (conv2): Conv2d(16, 32, kernel_size=(5, 5), stride=(2, 2))\n  (bn2): BatchNorm2d(32, eps=1e-05, momentum=0.1, affine=True, track_running_stats=True)\n  (conv3): Conv2d(32, 32, kernel_size=(5, 5), stride=(2, 2))\n  (bn3): BatchNorm2d(32, eps=1e-05, momentum=0.1, affine=True, track_running_stats=True)\n  (head): Linear(in_features=1568, out_features=3, bias=True)\n)"
     },
     "metadata": {},
     "output_type": "execute_result",
     "execution_count": 17
    }
   ],
   "source": [
    "env = gym.make('Pong-v0').unwrapped\n",
    "device = \"cpu\"\n",
    "model = DQN().to(device)\n",
    "model.load_state_dict(torch.load(\"../model/Pong_POLICY_20.pt\", map_location=torch.device('cpu')))\n",
    "model.eval()"
   ],
   "metadata": {
    "collapsed": false,
    "pycharm": {
     "name": "#%%\n",
     "is_executing": false
    }
   }
  },
  {
   "cell_type": "code",
   "execution_count": 18,
   "outputs": [
    {
     "name": "stdout",
     "text": [
      "Total reward:  -21.0 Actions:  [424. 475. 118.]\n"
     ],
     "output_type": "stream"
    }
   ],
   "source": [
    "resize = T.Compose([T.ToPILImage(),\n",
    "                    T.Resize(80, interpolation=Image.CUBIC),\n",
    "                    T.ToTensor()])\n",
    "\n",
    "total_reward = 0\n",
    "actions = np.zeros((3))\n",
    "\n",
    "state = torch.cat((get_screen(env, resize, device),\n",
    "                       get_screen(env, resize, device),\n",
    "                       get_screen(env, resize, device),\n",
    "                       get_screen(env, resize, device)), dim=1, out=None)\n",
    "\n",
    "next_state = state.clone()\n",
    "    \n",
    "for t in count():\n",
    "    # Select and perform an action\n",
    "    action = model(state).max(1)[1].view(1, 1) + 1\n",
    "    actions[action.item() - 1] += 1\n",
    "    _, reward, done, _ = env.step(action.item())\n",
    "    total_reward += reward\n",
    "    reward = torch.tensor([reward], device=device)\n",
    "    \n",
    "    # Observe new state\n",
    "    current_screen = get_screen(env, resize, device)\n",
    "    if not done:\n",
    "        next_state[:, 1:4, :, :] = next_state[:, 0:3, :, :].clone()\n",
    "        next_state[:, 0, :, :] = current_screen\n",
    "        # next_state = current_screen - last_screen\n",
    "    else:\n",
    "        next_state = None\n",
    "    # Move to the next state\n",
    "    state = next_state\n",
    "    # Perform one step of the optimization (on the target network)\n",
    "    if done:\n",
    "        print(\"Total reward: \", total_reward, \"Actions: \", actions)\n",
    "        # plot_durations()\n",
    "        break"
   ],
   "metadata": {
    "collapsed": false,
    "pycharm": {
     "name": "#%%\n",
     "is_executing": false
    }
   }
  },
  {
   "cell_type": "code",
   "execution_count": 11,
   "outputs": [],
   "source": [],
   "metadata": {
    "collapsed": false,
    "pycharm": {
     "name": "#%%\n",
     "is_executing": false
    }
   }
  },
  {
   "cell_type": "code",
   "execution_count": null,
   "outputs": [],
   "source": [
    "\n"
   ],
   "metadata": {
    "collapsed": false,
    "pycharm": {
     "name": "#%%\n"
    }
   }
  }
 ],
 "metadata": {
  "kernelspec": {
   "display_name": "Python 3",
   "language": "python",
   "name": "python3"
  },
  "language_info": {
   "codemirror_mode": {
    "name": "ipython",
    "version": 2
   },
   "file_extension": ".py",
   "mimetype": "text/x-python",
   "name": "python",
   "nbconvert_exporter": "python",
   "pygments_lexer": "ipython2",
   "version": "2.7.6"
  },
  "pycharm": {
   "stem_cell": {
    "cell_type": "raw",
    "source": [],
    "metadata": {
     "collapsed": false
    }
   }
  }
 },
 "nbformat": 4,
 "nbformat_minor": 0
}